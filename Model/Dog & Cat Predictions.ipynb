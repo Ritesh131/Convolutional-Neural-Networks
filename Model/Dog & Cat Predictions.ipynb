{
 "cells": [
  {
   "cell_type": "markdown",
   "metadata": {},
   "source": [
    "# Classify the cat and dogs images"
   ]
  },
  {
   "cell_type": "code",
   "execution_count": 4,
   "metadata": {},
   "outputs": [],
   "source": [
    "# import all require library\n",
    "import keras\n",
    "from keras.models import Sequential\n",
    "from keras.layers import Conv2D\n",
    "from keras.layers import MaxPooling2D\n",
    "from keras.layers import Flatten\n",
    "from keras.layers import Dense"
   ]
  },
  {
   "cell_type": "code",
   "execution_count": 19,
   "metadata": {},
   "outputs": [
    {
     "name": "stderr",
     "output_type": "stream",
     "text": [
      "C:\\ProgramData\\Anaconda3\\lib\\site-packages\\ipykernel_launcher.py:5: UserWarning: Update your `Conv2D` call to the Keras 2 API: `Conv2D(16, (3, 3), input_shape=(150, 150,..., activation=\"relu\")`\n",
      "  \"\"\"\n",
      "C:\\ProgramData\\Anaconda3\\lib\\site-packages\\ipykernel_launcher.py:11: UserWarning: Update your `Conv2D` call to the Keras 2 API: `Conv2D(8, (3, 3), activation=\"relu\")`\n",
      "  # This is added back by InteractiveShellApp.init_path()\n"
     ]
    }
   ],
   "source": [
    "# Initialising the CNN\n",
    "CNN_Classifier = Sequential()\n",
    "\n",
    "# Step 1 - Convolution\n",
    "CNN_Classifier.add(Conv2D(16,3,3, input_shape=(150, 150, 3), activation='relu'))\n",
    "\n",
    "# Step 2 - Pooling\n",
    "CNN_Classifier.add(MaxPooling2D(pool_size=(2, 2)))\n",
    "\n",
    "# Next Step  - Adding Second cnn Hidden  layers\n",
    "CNN_Classifier.add(Conv2D(8,3,3, activation='relu'))\n",
    "\n",
    "# Pooling\n",
    "CNN_Classifier.add(MaxPooling2D(pool_size=(2, 2)))\n",
    "\n",
    "# Step 3 - Flatering\n",
    "CNN_Classifier.add(Flatten())\n",
    "\n",
    "# Step 4 - Full connection as ANN\n",
    "CNN_Classifier.add(Dense(units=64, activation='relu'))\n",
    "CNN_Classifier.add(Dense(units=1, activation='sigmoid'))\n",
    "\n",
    "# Step 5 - Compile the Cnn\n",
    "CNN_Classifier.compile(optimizer='adam', loss='binary_crossentropy', metrics=['accuracy'])"
   ]
  },
  {
   "cell_type": "code",
   "execution_count": 21,
   "metadata": {
    "scrolled": false
   },
   "outputs": [
    {
     "name": "stdout",
     "output_type": "stream",
     "text": [
      "Found 8000 images belonging to 2 classes.\n",
      "Found 2000 images belonging to 2 classes.\n",
      "Epoch 1/10\n",
      "1000/1000 [==============================] - 490s 490ms/step - loss: 0.6538 - accuracy: 0.6166 - val_loss: 0.7273 - val_accuracy: 0.7212\n",
      "Epoch 2/10\n",
      "1000/1000 [==============================] - 456s 456ms/step - loss: 0.5569 - accuracy: 0.7181 - val_loss: 0.7443 - val_accuracy: 0.7434\n",
      "Epoch 3/10\n",
      "1000/1000 [==============================] - 495s 495ms/step - loss: 0.5016 - accuracy: 0.7537 - val_loss: 0.7086 - val_accuracy: 0.7625\n",
      "Epoch 4/10\n",
      "1000/1000 [==============================] - 469s 469ms/step - loss: 0.4710 - accuracy: 0.7776 - val_loss: 0.4336 - val_accuracy: 0.7834\n",
      "Epoch 5/10\n",
      "1000/1000 [==============================] - 453s 453ms/step - loss: 0.4422 - accuracy: 0.7900 - val_loss: 0.3236 - val_accuracy: 0.7859\n",
      "Epoch 6/10\n",
      "1000/1000 [==============================] - 439s 439ms/step - loss: 0.4222 - accuracy: 0.8048 - val_loss: 0.2226 - val_accuracy: 0.7734\n",
      "Epoch 7/10\n",
      "1000/1000 [==============================] - 460s 460ms/step - loss: 0.4006 - accuracy: 0.8156 - val_loss: 0.2212 - val_accuracy: 0.7788\n",
      "Epoch 8/10\n",
      "1000/1000 [==============================] - 428s 428ms/step - loss: 0.3733 - accuracy: 0.8337 - val_loss: 0.3940 - val_accuracy: 0.7803\n",
      "Epoch 9/10\n",
      "1000/1000 [==============================] - 412s 412ms/step - loss: 0.3522 - accuracy: 0.8411 - val_loss: 0.3555 - val_accuracy: 0.7794\n",
      "Epoch 10/10\n",
      "1000/1000 [==============================] - 401s 401ms/step - loss: 0.3353 - accuracy: 0.8541 - val_loss: 0.8268 - val_accuracy: 0.7747\n"
     ]
    },
    {
     "data": {
      "text/plain": [
       "<keras.callbacks.callbacks.History at 0x1c619b13388>"
      ]
     },
     "execution_count": 21,
     "metadata": {},
     "output_type": "execute_result"
    }
   ],
   "source": [
    "from keras.preprocessing.image import ImageDataGenerator\n",
    "\n",
    "train_datagen = ImageDataGenerator(\n",
    "        rescale=1./255,\n",
    "        shear_range=0.2,\n",
    "        zoom_range=0.2,\n",
    "        horizontal_flip=True)\n",
    "\n",
    "test_datagen = ImageDataGenerator(rescale=1./255)\n",
    "\n",
    "training_set = train_datagen.flow_from_directory(\n",
    "        'dataset/training_set',\n",
    "        target_size=(150, 150),\n",
    "        batch_size=16,\n",
    "        class_mode='binary')\n",
    "\n",
    "test_set = test_datagen.flow_from_directory(\n",
    "        'dataset/test_set/',\n",
    "        target_size=(150, 150),\n",
    "        batch_size=16,\n",
    "        class_mode='binary')\n",
    "\n",
    "CNN_Classifier.fit_generator(\n",
    "        training_set,\n",
    "        steps_per_epoch=1000,\n",
    "        epochs=10,\n",
    "        validation_data=test_set,\n",
    "        validation_steps=200)"
   ]
  },
  {
   "cell_type": "code",
   "execution_count": 25,
   "metadata": {},
   "outputs": [
    {
     "name": "stdout",
     "output_type": "stream",
     "text": [
      "<PIL.JpegImagePlugin.JpegImageFile image mode=RGB size=225x225 at 0x1C6151BB788> \n",
      " dog\n"
     ]
    }
   ],
   "source": [
    "# Preict dog and cat image from model\n",
    "import numpy as np\n",
    "from keras.preprocessing import image\n",
    "test_image = image.load_img('test/aaa.jpg')\n",
    "test_image = image.img_to_array(test_image)\n",
    "test_image = np.expand_dims(test_image, axis = 0)\n",
    "result = CNN_Classifier.predict(test_image)\n",
    "training_set.class_indices\n",
    "if result[0][0] == 1:\n",
    "    prediction = 'dog'\n",
    "    print(test_img, '\\n', prediction)\n",
    "else:\n",
    "    prediction = 'cat'\n",
    "    print(test_img, '\\n', prediction)"
   ]
  }
 ],
 "metadata": {
  "kernelspec": {
   "display_name": "Python 3",
   "language": "python",
   "name": "python3"
  },
  "language_info": {
   "codemirror_mode": {
    "name": "ipython",
    "version": 3
   },
   "file_extension": ".py",
   "mimetype": "text/x-python",
   "name": "python",
   "nbconvert_exporter": "python",
   "pygments_lexer": "ipython3",
   "version": "3.7.6"
  }
 },
 "nbformat": 4,
 "nbformat_minor": 2
}
